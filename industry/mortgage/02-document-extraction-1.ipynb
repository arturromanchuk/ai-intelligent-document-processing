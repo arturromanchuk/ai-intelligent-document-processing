{
 "cells": [
  {
   "cell_type": "markdown",
   "metadata": {},
   "source": [
    "# Mortgage Document Extraction\n",
    "\n",
    "---\n",
    "\n",
    "At this point we have identified the documents, and we can now start extracting information from them. What we want to extract information from each document will depend on the type of document as depicted in the figure below.\n",
    "\n",
    "<p align=\"center\">\n",
    "  <img src=\"./images/extraction.png\" alt=\"cfn1\" width=\"800px\"/>\n",
    "</p>\n",
    "\n",
    "We will be extracting information from the following documents-\n",
    "\n",
    "- [Unified Residential Loan Application (URLA1003) form](#step1)\n",
    "- [Paystub](#step2)\n",
    "- [W2 form](#step3)\n",
    "- [Bank statement](#step4)\n",
    "- [Credit card statement](#step5)\n",
    "- [Mortgage Note](#step6)\n",
    "- [Passport](#step7)\n",
    "- [1099 INT form](#step8)\n",
    "- [1099 DIV form](#step9)\n",
    "- [1099 MISC form](#step10)\n",
    "- [1099 R form](#step11)\n",
    "- [Employment verification letter](#step12)\n",
    "- [Mortgage Statement](#step13)\n",
    "\n",
    "---\n",
    "\n",
    "## Setup Notebook\n",
    "\n",
    "We will be using the [Amazon Textract Parser Library](https://github.com/aws-samples/amazon-textract-response-parser/tree/master/src-python) for parsing through the Textract response, data science library [Pandas](https://pandas.pydata.org/pandas-docs/stable/reference/api/pandas.DataFrame.html) for content analysis, the [Amazon SageMaker Python SDK](https://sagemaker.readthedocs.io/en/stable/), and [AWS boto3 python sdk](https://boto3.amazonaws.com/v1/documentation/api/latest/index.html) to work with Amazon Textract and Amazon A2I. Let's now install and import them."
   ]
  },
  {
   "cell_type": "code",
   "execution_count": null,
   "metadata": {
    "scrolled": true
   },
   "outputs": [],
   "source": [
    "!python -m pip install -q amazon-textract-response-parser --upgrade --force-reinstall\n",
    "!python -m pip install -q amazon-textract-caller --upgrade --force-reinstall\n",
    "!python -m pip install -q amazon-textract-prettyprinter --upgrade --force-reinstall"
   ]
  },
  {
   "cell_type": "code",
   "execution_count": null,
   "metadata": {
    "scrolled": true
   },
   "outputs": [],
   "source": [
    "import boto3\n",
    "import botocore\n",
    "import sagemaker\n",
    "import os\n",
    "import io\n",
    "import datetime\n",
    "import json\n",
    "import pandas as pd\n",
    "from PIL import Image as PImage, ImageDraw\n",
    "from pathlib import Path\n",
    "import multiprocessing as mp\n",
    "from IPython.display import Image, display, HTML, JSON, IFrame\n",
    "from trp import Document\n",
    "from textractcaller.t_call import call_textract, Textract_Features\n",
    "from textractprettyprinter.t_pretty_print import Textract_Pretty_Print, get_string, Pretty_Print_Table_Format\n",
    "from trp.trp2 import TDocument\n",
    "\n",
    "# variables\n",
    "data_bucket = sagemaker.Session().default_bucket()\n",
    "region = boto3.session.Session().region_name\n",
    "account_id = boto3.client('sts').get_caller_identity().get('Account')\n",
    "\n",
    "os.environ[\"BUCKET\"] = data_bucket\n",
    "os.environ[\"REGION\"] = region\n",
    "role = sagemaker.get_execution_role()\n",
    "\n",
    "print(f\"SageMaker role is: {role}\\nDefault SageMaker Bucket: s3://{data_bucket}\")\n",
    "\n",
    "s3=boto3.client('s3')\n",
    "textract = boto3.client('textract', region_name=region)"
   ]
  },
  {
   "cell_type": "markdown",
   "metadata": {},
   "source": [
    "---\n",
    "# Upload all documents to S3\n",
    "\n",
    "We will upload all of our mortgage related documents (present in the `/docs` directory) to Amazon S3 Bucket. Note that documents will be uploaded into SageMaker's default S3 bucket. If you wish to use a different bucket please make sure you update the bucket name in `data_bucket` variable and also ensure that SageMaker has permissions to the S3 bucket."
   ]
  },
  {
   "cell_type": "code",
   "execution_count": null,
   "metadata": {},
   "outputs": [],
   "source": [
    "# Upload images to S3 bucket:\n",
    "!aws s3 cp docs s3://{data_bucket}/idp-mortgage/textract --recursive --only-show-errors"
   ]
  },
  {
   "cell_type": "markdown",
   "metadata": {},
   "source": [
    "Verify that the document's have been uploaded to S3."
   ]
  },
  {
   "cell_type": "code",
   "execution_count": null,
   "metadata": {},
   "outputs": [],
   "source": [
    "!aws s3 ls s3://{data_bucket}/idp-mortgage/textract/"
   ]
  },
  {
   "cell_type": "markdown",
   "metadata": {},
   "source": [
    "---\n",
    "# Extracting information from documents\n",
    "\n",
    "We will extract the information out of each of the Mortgage documents that are available in the S3 bucket. We will use Amazon Textract's [Analyze Document](https://docs.aws.amazon.com/textract/latest/dg/analyzing-document-text.html) API to extract FORMS, TABLES, and QUERIES out of the documents. However, in some cases (for example; for the passport document) we will use a specific Amazon Textract API called the [AnalyzeID](https://docs.aws.amazon.com/textract/latest/dg/analyzing-document-identity.html) API."
   ]
  },
  {
   "cell_type": "markdown",
   "metadata": {},
   "source": [
    "---\n",
    "## 1. URLA-1003 (Uniform Residential Loan Application) <a id=\"step1\"></a>\n"
   ]
  },
  {
   "cell_type": "code",
   "execution_count": null,
   "metadata": {},
   "outputs": [],
   "source": [
    "documentName = \"docs/URLA-1003.pdf\"\n",
    "display(IFrame(documentName, 500, 600));"
   ]
  },
  {
   "cell_type": "code",
   "execution_count": null,
   "metadata": {},
   "outputs": [],
   "source": [
    "response_urla_1003 = call_textract(input_document=f's3://{data_bucket}/idp-mortgage/textract/URLA-1003.pdf', \n",
    "                                 features=[Textract_Features.TABLES, Textract_Features.FORMS])\n",
    "doc_urla_1003 = Document(response_urla_1003)"
   ]
  },
  {
   "cell_type": "markdown",
   "metadata": {},
   "source": [
    "### Printing the content of the doc in Line and Word Format\n",
    "\n",
    "In this section, we will extract the lines and words that appear in the document."
   ]
  },
  {
   "cell_type": "code",
   "execution_count": null,
   "metadata": {
    "scrolled": true
   },
   "outputs": [],
   "source": [
    "# Iterate over elements in the document\n",
    "for page in doc_urla_1003.pages:    \n",
    "    # Print lines and words\n",
    "    for line in page.lines:\n",
    "        print(f\"Line├── {line.text}\")\n",
    "        for word in line.words:\n",
    "            print(f\"\\tWord└── {word.text}\")\n",
    "        print('\\n────────────────────────────\\n')"
   ]
  },
  {
   "cell_type": "markdown",
   "metadata": {},
   "source": [
    "### Get form info (key-value) pairs from the response\n",
    "\n",
    "In the previous section, note that the output is plain text and doesn't necessarily have information on whether they appear in a form or a table. In this section we will get the form data in the document in key-value pair format."
   ]
  },
  {
   "cell_type": "code",
   "execution_count": null,
   "metadata": {
    "scrolled": true
   },
   "outputs": [],
   "source": [
    "for page in doc_urla_1003.pages:\n",
    "    forms=[]\n",
    "    for field in page.form.fields:\n",
    "        obj={}\n",
    "        obj[f'{field.key}']=f'{field.value}'\n",
    "        forms.append(obj)\n",
    "\n",
    "display(JSON(forms, root='Form Key-values', expanded=True))"
   ]
  },
  {
   "cell_type": "code",
   "execution_count": null,
   "metadata": {
    "scrolled": true
   },
   "outputs": [],
   "source": [
    "num_tables=1\n",
    "for page in doc_urla_1003.pages:\n",
    "     # Print tables\n",
    "    for table in page.tables:\n",
    "        print(f\"Table {num_tables}\")\n",
    "        print(\"-------------------\")\n",
    "        num_tables=num_tables+1\n",
    "        for r, row in enumerate(table.rows):\n",
    "            for c, cell in enumerate(row.cells):\n",
    "                print(f\"Cell[{r}][{c}] = {cell.text}\")\n",
    "        print('\\n────────────────────────────\\n')"
   ]
  },
  {
   "cell_type": "markdown",
   "metadata": {},
   "source": [
    "There are no tables detected in this document."
   ]
  },
  {
   "cell_type": "markdown",
   "metadata": {},
   "source": [
    "---\n",
    "## 2. Paystub <a id=\"step2\"></a>\n"
   ]
  },
  {
   "cell_type": "code",
   "execution_count": null,
   "metadata": {},
   "outputs": [],
   "source": [
    "documentName = \"docs/Paystub.jpg\"\n",
    "display(Image(filename=documentName, width=500))"
   ]
  },
  {
   "cell_type": "code",
   "execution_count": null,
   "metadata": {},
   "outputs": [],
   "source": [
    "response_paystub = call_textract(input_document=f's3://{data_bucket}/idp-mortgage/textract/Paystub.jpg', \n",
    "                                 features=[Textract_Features.TABLES, Textract_Features.FORMS])\n",
    "doc_paystub = Document(response_paystub)"
   ]
  },
  {
   "cell_type": "markdown",
   "metadata": {},
   "source": [
    "### Printing the content of the doc in Line and Word Format\n",
    "\n",
    "In this section, we will extract the lines and words that appear in the document."
   ]
  },
  {
   "cell_type": "code",
   "execution_count": null,
   "metadata": {
    "scrolled": true
   },
   "outputs": [],
   "source": [
    "# Iterate over elements in the document\n",
    "for page in doc_paystub.pages:\n",
    "    # Print lines and words\n",
    "    for line in page.lines:\n",
    "        print(f\"Line├── {line.text}\")\n",
    "        for word in line.words:\n",
    "            print(f\"\\tWord└── {word.text}\")\n",
    "        print('\\n────────────────────────────\\n')"
   ]
  },
  {
   "cell_type": "markdown",
   "metadata": {},
   "source": [
    "### Get form info (key-value) pairs from the response\n",
    "\n",
    "In the previous section, note that the output is plain text and doesn't necessarily have information on whether they appear in a form or a table. In this section we will get the form data in the document in key-value pair format."
   ]
  },
  {
   "cell_type": "code",
   "execution_count": null,
   "metadata": {
    "scrolled": true
   },
   "outputs": [],
   "source": [
    "for page in doc_paystub.pages:\n",
    "    forms=[]\n",
    "    for field in page.form.fields:\n",
    "        obj={}\n",
    "        obj[f'{field.key}']=f'{field.value}'\n",
    "        forms.append(obj)\n",
    "\n",
    "display(JSON(forms, root='Form Key-values', expanded=True))"
   ]
  },
  {
   "cell_type": "markdown",
   "metadata": {},
   "source": [
    "### Get Table info from the response"
   ]
  },
  {
   "cell_type": "code",
   "execution_count": null,
   "metadata": {
    "scrolled": true
   },
   "outputs": [],
   "source": [
    "num_tables=1\n",
    "for page in doc_paystub.pages:\n",
    "     # Print tables\n",
    "    for table in page.tables:\n",
    "        print(f\"Table {num_tables}\")\n",
    "        print('────────────────────────────')\n",
    "        num_tables=num_tables+1\n",
    "        for r, row in enumerate(table.rows):\n",
    "            for c, cell in enumerate(row.cells):\n",
    "                print(f\"Cell[{r}][{c}] = {cell.text}\")\n",
    "        print('\\n')"
   ]
  },
  {
   "cell_type": "code",
   "execution_count": null,
   "metadata": {},
   "outputs": [],
   "source": [
    "print(get_string(textract_json=response_paystub, table_format=Pretty_Print_Table_Format.grid, output_type=[Textract_Pretty_Print.TABLES]))"
   ]
  },
  {
   "cell_type": "markdown",
   "metadata": {},
   "source": [
    "---\n",
    "## 3. W2 Form <a id=\"step3\"></a>"
   ]
  },
  {
   "cell_type": "code",
   "execution_count": null,
   "metadata": {},
   "outputs": [],
   "source": [
    "documentName = \"docs/W2.jpg\"\n",
    "display(Image(filename=documentName, width=500))"
   ]
  },
  {
   "cell_type": "code",
   "execution_count": null,
   "metadata": {},
   "outputs": [],
   "source": [
    "response_w2 = call_textract(input_document=f's3://{data_bucket}/idp-mortgage/textract/W2.jpg', \n",
    "                                 features=[Textract_Features.TABLES, Textract_Features.FORMS])\n",
    "doc_w2 = Document(response_w2)"
   ]
  },
  {
   "cell_type": "markdown",
   "metadata": {},
   "source": [
    "### Printing the content of the doc in Line and Word Format\n",
    "\n",
    "In this section, we will extract the lines and words that appear in the document."
   ]
  },
  {
   "cell_type": "code",
   "execution_count": null,
   "metadata": {
    "scrolled": true
   },
   "outputs": [],
   "source": [
    "# Iterate over elements in the document\n",
    "for page in doc_w2.pages:    \n",
    "    # Print lines and words\n",
    "    for line in page.lines:\n",
    "        print(f\"Line├── {line.text}\")\n",
    "        for word in line.words:\n",
    "            print(f\"\\tWord└── {word.text}\")\n",
    "        print('\\n────────────────────────────\\n')"
   ]
  },
  {
   "cell_type": "markdown",
   "metadata": {},
   "source": [
    "### Get form info (key-value) pairs from the response\n",
    "\n",
    "In the previous section, note that the output is plain text and doesn't necessarily have information on whether they appear in a form or a table. In this section we will get the form data in the document in key-value pair format."
   ]
  },
  {
   "cell_type": "code",
   "execution_count": null,
   "metadata": {
    "scrolled": true
   },
   "outputs": [],
   "source": [
    "for page in doc_w2.pages:\n",
    "    forms=[]\n",
    "    for field in page.form.fields:\n",
    "        obj={}\n",
    "        obj[f'{field.key}']=f'{field.value}'\n",
    "        forms.append(obj)\n",
    "\n",
    "display(JSON(forms, root='Form Key-values', expanded=True))"
   ]
  },
  {
   "cell_type": "markdown",
   "metadata": {},
   "source": [
    "---\n",
    "## 4. Bank Statement <a id=\"step4\"></a>"
   ]
  },
  {
   "cell_type": "code",
   "execution_count": null,
   "metadata": {},
   "outputs": [],
   "source": [
    "documentName = \"docs/Bank-Statement.jpg\"\n",
    "display(Image(filename=documentName, width=500))"
   ]
  },
  {
   "cell_type": "code",
   "execution_count": null,
   "metadata": {},
   "outputs": [],
   "source": [
    "response_bank_stmt = call_textract(input_document=f's3://{data_bucket}/idp-mortgage/textract/Bank-Statement.jpg', \n",
    "                                 features=[Textract_Features.TABLES, Textract_Features.FORMS])\n",
    "doc_bank_stmt = Document(response_bank_stmt)"
   ]
  },
  {
   "cell_type": "markdown",
   "metadata": {},
   "source": [
    "### Printing the content of the doc in Line and Word Format\n",
    "\n",
    "In this section, we will extract the lines and words that appear in the document."
   ]
  },
  {
   "cell_type": "code",
   "execution_count": null,
   "metadata": {
    "scrolled": true
   },
   "outputs": [],
   "source": [
    "# Iterate over elements in the document\n",
    "for page in doc_bank_stmt.pages:\n",
    "    # Print lines and words\n",
    "    for line in page.lines:\n",
    "        print(f\"Line├── {line.text}\")\n",
    "        for word in line.words:\n",
    "            print(f\"\\tWord└── {word.text}\")\n",
    "        print('\\n────────────────────────────\\n')"
   ]
  },
  {
   "cell_type": "markdown",
   "metadata": {},
   "source": [
    "### Get form info (key-value) pairs from the response\n",
    "\n",
    "In the previous section, note that the output is plain text and doesn't necessarily have information on whether they appear in a form or a table. In this section we will get the form data in the document in key-value pair format."
   ]
  },
  {
   "cell_type": "code",
   "execution_count": null,
   "metadata": {
    "scrolled": true
   },
   "outputs": [],
   "source": [
    "for page in doc_bank_stmt.pages:\n",
    "    forms=[]\n",
    "    for field in page.form.fields:\n",
    "        obj={}\n",
    "        obj[f'{field.key}']=f'{field.value}'\n",
    "        forms.append(obj)\n",
    "\n",
    "display(JSON(forms, root='Form Key-values', expanded=True))"
   ]
  },
  {
   "cell_type": "code",
   "execution_count": null,
   "metadata": {
    "scrolled": true
   },
   "outputs": [],
   "source": [
    "num_tables=1\n",
    "for page in doc_bank_stmt.pages:\n",
    "     # Print tables\n",
    "    for table in page.tables:\n",
    "        print(f\"Table {num_tables}\")\n",
    "        print('────────────────────────────')\n",
    "        num_tables=num_tables+1\n",
    "        for r, row in enumerate(table.rows):\n",
    "            for c, cell in enumerate(row.cells):\n",
    "                print(f\"Cell[{r}][{c}] = {cell.text}\")\n",
    "        print('\\n')"
   ]
  },
  {
   "cell_type": "code",
   "execution_count": null,
   "metadata": {},
   "outputs": [],
   "source": [
    "print(get_string(textract_json=response_bank_stmt, table_format=Pretty_Print_Table_Format.grid, output_type=[Textract_Pretty_Print.TABLES]))"
   ]
  },
  {
   "cell_type": "markdown",
   "metadata": {},
   "source": [
    "---\n",
    "\n",
    "## 5. Credit Card Statement <a id=\"step5\"></a>"
   ]
  },
  {
   "cell_type": "code",
   "execution_count": null,
   "metadata": {},
   "outputs": [],
   "source": [
    "# Document\n",
    "documentName = \"docs/credit-card-stmt.pdf\"\n",
    "display(IFrame(documentName, 500, 600));"
   ]
  },
  {
   "cell_type": "code",
   "execution_count": null,
   "metadata": {},
   "outputs": [],
   "source": [
    "response_cc = call_textract(input_document=f's3://{data_bucket}/idp-mortgage/textract/credit-card-stmt.pdf', \n",
    "                            features=[Textract_Features.TABLES, Textract_Features.FORMS])"
   ]
  },
  {
   "cell_type": "markdown",
   "metadata": {},
   "source": [
    "Let's look at the raw JSON response response returned by Amazon Textract."
   ]
  },
  {
   "cell_type": "code",
   "execution_count": null,
   "metadata": {
    "scrolled": true
   },
   "outputs": [],
   "source": [
    "print(json.dumps(response_cc, indent=4))"
   ]
  },
  {
   "cell_type": "markdown",
   "metadata": {},
   "source": [
    "You can parse this raw JSON using simple logic. However, to make it easier to parse and get the information out of the JSON response we will use Textract response parser library. Library parses JSON and provides programming language specific constructs to work with different parts of the document. For more details please refer to the [Amazon Textract Parser Library](https://github.com/aws-samples/amazon-textract-response-parser/tree/master/src-python). In order to do that we will use the `Document` wrapper which makes it easy for us to write logic."
   ]
  },
  {
   "cell_type": "code",
   "execution_count": null,
   "metadata": {},
   "outputs": [],
   "source": [
    "doc_cc = Document(response_cc)"
   ]
  },
  {
   "cell_type": "markdown",
   "metadata": {},
   "source": [
    "### Printing the content of the doc in Line and Word Format\n",
    "\n",
    "In this section, we will extract the lines and words that appear in the document."
   ]
  },
  {
   "cell_type": "code",
   "execution_count": null,
   "metadata": {
    "scrolled": true
   },
   "outputs": [],
   "source": [
    "doc_cc = Document(response_cc)\n",
    "\n",
    "# Iterate over elements in the document\n",
    "for page in doc_cc.pages:\n",
    "    # Print lines and words\n",
    "    for line in page.lines:\n",
    "        print(f\"Line├── {line.text}\")\n",
    "        for word in line.words:\n",
    "            print(f\"\\tWord└── {word.text}\")\n",
    "        print('\\n')"
   ]
  },
  {
   "cell_type": "markdown",
   "metadata": {},
   "source": [
    "### Get form info (key-value) pairs from the response\n",
    "\n",
    "In the previous section, note that the output is plain text and doesn't necessarily have information on whether they appear in a form or a table. In this section we will get the form data in the document in key-value pair format."
   ]
  },
  {
   "cell_type": "code",
   "execution_count": null,
   "metadata": {
    "scrolled": true
   },
   "outputs": [],
   "source": [
    "for page in doc_cc.pages:\n",
    "    # Print fields\n",
    "    forms=[]\n",
    "    for field in page.form.fields:\n",
    "        obj={}\n",
    "        obj[f'{field.key}']=f'{field.value}'\n",
    "        forms.append(obj)\n",
    "\n",
    "display(JSON(forms, root='Form Key-values', expanded=True))"
   ]
  },
  {
   "cell_type": "markdown",
   "metadata": {},
   "source": [
    "### Get Tables from the response\n",
    "\n",
    "We will now get all the table data that appear in the table. We will first see how the raw data per cell of every table looks like"
   ]
  },
  {
   "cell_type": "code",
   "execution_count": null,
   "metadata": {
    "scrolled": true
   },
   "outputs": [],
   "source": [
    "num_tables=1\n",
    "for page in doc_cc.pages:\n",
    "     # Print tables\n",
    "    for table in page.tables:\n",
    "        print(f\"Table {num_tables}\")\n",
    "        print(\"-------------------\")\n",
    "        num_tables=num_tables+1\n",
    "        for r, row in enumerate(table.rows):\n",
    "            for c, cell in enumerate(row.cells):\n",
    "                print(f\"Cell[{r}][{c}] = {cell.text}\")\n",
    "        print('\\n')"
   ]
  },
  {
   "cell_type": "markdown",
   "metadata": {},
   "source": [
    "### Tables with Confidence Score"
   ]
  },
  {
   "cell_type": "code",
   "execution_count": null,
   "metadata": {
    "scrolled": true
   },
   "outputs": [],
   "source": [
    "# Print tables\n",
    "num_tables=1\n",
    "for table in page.tables:\n",
    "    print(f\"Table {num_tables}\")\n",
    "    print(\"-------------------\")\n",
    "    for r, row in enumerate(table.rows):\n",
    "        for c, cell in enumerate(row.cells):\n",
    "            print(f\"Cell[{r}][{c}] :  Text: {cell.text} ,  Confidence: {round(cell.confidence,2)}%\")\n",
    "    print('\\n')        \n",
    "                        "
   ]
  },
  {
   "cell_type": "markdown",
   "metadata": {},
   "source": [
    "### Printing the Table using Prettyprinter library\n",
    "\n",
    "We can use the amazon-textract-textractor library's [prettyprinter](https://github.com/aws-samples/amazon-textract-textractor/tree/master/prettyprinter) tool we can get the table data in various easy to consume and read format such as CSV, Grid etc."
   ]
  },
  {
   "cell_type": "code",
   "execution_count": null,
   "metadata": {
    "scrolled": true
   },
   "outputs": [],
   "source": [
    "print(get_string(textract_json=response_cc, \n",
    "                 table_format=Pretty_Print_Table_Format.grid, \n",
    "                 output_type=[Textract_Pretty_Print.TABLES]))"
   ]
  },
  {
   "cell_type": "markdown",
   "metadata": {},
   "source": [
    "The code above displays all the tables that exist in that document. However, we are only interested in one particular table, i.e. the table that contains all the credit card transactions. Here's a way to specifically pick that table and display it in a Pandas dataframe format. We will use a utility function called `convert_table_to_list` for this."
   ]
  },
  {
   "cell_type": "code",
   "execution_count": null,
   "metadata": {},
   "outputs": [],
   "source": [
    "from textractprettyprinter.t_pretty_print import convert_table_to_list\n",
    "\n",
    "dfs = list()\n",
    "\n",
    "for page in doc_cc.pages:\n",
    "    for table in page.tables:\n",
    "        dfs.append(pd.DataFrame(convert_table_to_list(trp_table=table)))\n",
    "        \n",
    "# Only the third table i.e. the table at index 2 considering index starts at 0\n",
    "cc_transactions = dfs[2]\n",
    "# Make the first row as column headers for the dataframe\n",
    "cc_transactions.columns = cc_transactions.iloc[0]\n",
    "#drop the first row since it's the column header\n",
    "cc_transactions = cc_transactions.drop(cc_transactions.index[0]) \n",
    "\n",
    "#display the dataframe\n",
    "cc_transactions"
   ]
  },
  {
   "cell_type": "markdown",
   "metadata": {},
   "source": [
    "---\n",
    "## 6. Mortgage Note - _Amazon Textract Queries example_ <a id=\"step6\"></a>"
   ]
  },
  {
   "cell_type": "code",
   "execution_count": null,
   "metadata": {},
   "outputs": [],
   "source": [
    "documentName = \"docs/Mortgage-Note.pdf\"\n",
    "display(IFrame(documentName, 500, 600));"
   ]
  },
  {
   "cell_type": "markdown",
   "metadata": {},
   "source": [
    "A we can see the mortgage note is a document containing dense text. In this case we are interested in finding out a few key information from the entire document. Instead of extracting all the text from the document, and then apply logic (for example: regular expression) to find out that information, we will use Amazon Textract queries feature to grab the infromation from the document. \n",
    "\n",
    "Specifically, the information we are looking for are-\n",
    "\n",
    "1. The Lender name\n",
    "2. The principal ammount the borrower has to pay\n",
    "3. The yearly interest rate.\n",
    "4. Monthly payment amount.\n",
    "\n",
    "We will craft questions in plain english language for the Textract API and pass it to the API call to get the information. Queries are-\n",
    "\n",
    "1. Who is the Lender?\n",
    "2. What is the principal amount borrower has to pay?\n",
    "3. What is the yearly interest rate?\n",
    "4. What is the monthly payment amount?\n",
    "\n",
    "Also, we can see that all of this information is available in the first page of this multi-page document so we don't need the AI to look through all the pages to find this info. We will pass the page number when making the API call. Note: If the page number is not known then the `pages` parameter can be assigned a wild-card value of `\"*\"`, in which case Amazon Textract will look for answers in all pages of the document. Page ranging, for example to look for answers starting at page 3 to the last page the expression can be `\"3-*\"`, or from page 3 to 6 the expression can be `\"3-6\"`."
   ]
  },
  {
   "cell_type": "code",
   "execution_count": null,
   "metadata": {},
   "outputs": [],
   "source": [
    "from textractcaller import QueriesConfig, Query\n",
    "\n",
    "# Setup the queries\n",
    "query1 = Query(text=\"Who is the Lender?\" , alias=\"LENDER_NAME\", pages=[\"1\"])\n",
    "query2 = Query(text=\"What is the principal amount borrower has to pay?\", alias=\"PRINCIPAL_AMOUNT\", pages=[\"1\"])\n",
    "query3 = Query(text=\"What is the yearly interest rate?\", alias=\"INTEREST_RATE\", pages=[\"1\"])\n",
    "query4 = Query(text=\"What is the monthly payment amount?\", alias=\"MONTHLY_AMOUNT\", pages=[\"1\"])\n",
    "\n",
    "#Setup the query config with the above queries\n",
    "queries_config = QueriesConfig(queries=[query1, query2, query3, query4])\n",
    "\n",
    "response_mortgage_note = call_textract(input_document=f's3://{data_bucket}/idp-mortgage/textract/Mortgage-Note.pdf',\n",
    "                          features=[Textract_Features.QUERIES],\n",
    "                          queries_config=queries_config)\n",
    "doc_mortgage_note = Document(response_mortgage_note)"
   ]
  },
  {
   "cell_type": "code",
   "execution_count": null,
   "metadata": {},
   "outputs": [],
   "source": [
    "import trp.trp2 as t2\n",
    "doc_mortgage_note: t2.TDocumentSchema = t2.TDocumentSchema().load(response_mortgage_note) \n",
    "    \n",
    "entities = {}\n",
    "for page in doc_mortgage_note.pages:\n",
    "    query_answers = doc_mortgage_note.get_query_answers(page=page)\n",
    "    if query_answers:\n",
    "        for answer in query_answers:\n",
    "            entities[answer[1]] = answer[2]\n",
    "            \n",
    "display(JSON(entities, root='Query Answers'))"
   ]
  },
  {
   "cell_type": "markdown",
   "metadata": {},
   "source": [
    "---\n",
    "## 7. Passport (ID Document) <a id=\"step7\"></a>\n",
    "\n",
    "Passport is a special document, i.e. an Identity document. To extract infromation from US passports and driver's license, Amazon Textract's [AnalyzeID](https://docs.aws.amazon.com/textract/latest/dg/analyzing-document-identity.html) API can be used."
   ]
  },
  {
   "cell_type": "code",
   "execution_count": null,
   "metadata": {},
   "outputs": [],
   "source": [
    "documentName = \"docs/Passport.pdf\"\n",
    "display(IFrame(documentName, 500, 600));"
   ]
  },
  {
   "cell_type": "markdown",
   "metadata": {},
   "source": [
    "We will use the `call_textract_analyzeid` tool from the amazon-textract-textractor library."
   ]
  },
  {
   "cell_type": "code",
   "execution_count": null,
   "metadata": {},
   "outputs": [],
   "source": [
    "from textractcaller import call_textract_analyzeid\n",
    "import trp.trp2_analyzeid as t2id\n",
    "\n",
    "response_passport = call_textract_analyzeid(document_pages=[f's3://{data_bucket}/idp-mortgage/textract/Passport.pdf'])\n",
    "doc_passport: t2id.TAnalyzeIdDocument = t2id.TAnalyzeIdDocumentSchema().load(response_passport)"
   ]
  },
  {
   "cell_type": "code",
   "execution_count": null,
   "metadata": {},
   "outputs": [],
   "source": [
    "for id_docs in response_passport['IdentityDocuments']:\n",
    "    id_doc_kvs={}\n",
    "    for field in id_docs['IdentityDocumentFields']:\n",
    "        id_doc_kvs[field['Type']['Text']] = field['ValueDetection']['Text']\n",
    "\n",
    "display(JSON(id_doc_kvs, root='ID Document Key-values', expanded=True))"
   ]
  },
  {
   "cell_type": "markdown",
   "metadata": {},
   "source": [
    "---\n",
    "\n",
    "## 8. Extracting 1099-INT Form <a id=\"step8\"></a>\n",
    "\n",
    "Let's now extract data out of the 1099-INT form. Form 1099-INT is a tax form issued by interest-paying entities, such as banks, investment firms, and other financial institutions, to taxpayers who receive interest income of $10 or more. The information recorded on the form must be reported to the IRS. 1099-INT form is often included in mortgage application packet by property buyers/mortgage applicants to validate their sources of income as reflected in their bank statements."
   ]
  },
  {
   "cell_type": "code",
   "execution_count": null,
   "metadata": {},
   "outputs": [],
   "source": [
    "documentName = \"docs/1099-INT-2018.pdf\"\n",
    "display(IFrame(documentName, 500, 600));"
   ]
  },
  {
   "cell_type": "code",
   "execution_count": null,
   "metadata": {},
   "outputs": [],
   "source": [
    "response_1099_int = call_textract(input_document=f's3://{data_bucket}/idp-mortgage/textract/1099-INT-2018.pdf', \n",
    "                                 features=[Textract_Features.TABLES, Textract_Features.FORMS])\n",
    "doc_1099_int = Document(response_1099_int)"
   ]
  },
  {
   "cell_type": "markdown",
   "metadata": {},
   "source": [
    "### Printing the content of the doc in Line and Word Format\n",
    "\n",
    "In this section, we will extract the lines and words that appear in the document."
   ]
  },
  {
   "cell_type": "code",
   "execution_count": null,
   "metadata": {
    "scrolled": true
   },
   "outputs": [],
   "source": [
    "# Iterate over elements in the document\n",
    "for page in doc_1099_int.pages:\n",
    "    # Print lines and words\n",
    "    for line in page.lines:\n",
    "        print(f\"Line├── {line.text}\")\n",
    "        for word in line.words:\n",
    "            print(f\"\\tWord└── {word.text}\")\n",
    "            \n",
    "        print('\\n────────────────────────────\\n')"
   ]
  },
  {
   "cell_type": "markdown",
   "metadata": {},
   "source": [
    "### Get form info (key-value) pairs from the response\n",
    "\n",
    "In the previous section, note that the output is plain text and doesn't necessarily have information on whether they appear in a form or a table. In this section we will get the form data in the document in key-value pair format."
   ]
  },
  {
   "cell_type": "code",
   "execution_count": null,
   "metadata": {
    "scrolled": true
   },
   "outputs": [],
   "source": [
    "for page in doc_1099_int.pages:\n",
    "    forms=[]\n",
    "    for field in page.form.fields:\n",
    "        obj={}\n",
    "        obj[f'{field.key}']=f'{field.value}'\n",
    "        forms.append(obj)\n",
    "\n",
    "display(JSON(forms, root='Form Key-values', expanded=True))"
   ]
  },
  {
   "cell_type": "code",
   "execution_count": null,
   "metadata": {},
   "outputs": [],
   "source": [
    "num_tables=1\n",
    "for page in doc_1099_int.pages:\n",
    "     # Print tables\n",
    "    for table in page.tables:\n",
    "        print(f\"Table {num_tables}\")\n",
    "        print(\"-------------------\")\n",
    "        num_tables=num_tables+1\n",
    "        for r, row in enumerate(table.rows):\n",
    "            for c, cell in enumerate(row.cells):\n",
    "                print(f\"Cell[{r}][{c}] = {cell.text}\")\n",
    "        print('\\n')"
   ]
  },
  {
   "cell_type": "code",
   "execution_count": null,
   "metadata": {},
   "outputs": [],
   "source": [
    "print(get_string(textract_json=response_1099_int, table_format=Pretty_Print_Table_Format.grid, output_type=[Textract_Pretty_Print.TABLES]))"
   ]
  },
  {
   "cell_type": "markdown",
   "metadata": {},
   "source": [
    "---\n",
    "## 9. Extracting 1099-DIV Form <a id=\"step9\"></a>"
   ]
  },
  {
   "cell_type": "code",
   "execution_count": null,
   "metadata": {},
   "outputs": [],
   "source": [
    "documentName = \"docs/1099-DIV.jpg\"\n",
    "display(Image(filename=documentName, width=500))"
   ]
  },
  {
   "cell_type": "code",
   "execution_count": null,
   "metadata": {},
   "outputs": [],
   "source": [
    "response_1099_div = call_textract(input_document=f's3://{data_bucket}/idp-mortgage/textract/1099-DIV.jpg', \n",
    "                                 features=[Textract_Features.TABLES, Textract_Features.FORMS])\n",
    "doc_1099_div = Document(response_1099_div)"
   ]
  },
  {
   "cell_type": "code",
   "execution_count": null,
   "metadata": {
    "scrolled": true
   },
   "outputs": [],
   "source": [
    "# Iterate over elements in the document\n",
    "for page in doc_1099_div.pages:\n",
    "    # Print lines and words\n",
    "    for line in page.lines:\n",
    "        print(f\"Line├── {line.text}\")\n",
    "        for word in line.words:\n",
    "            print(f\"\\tWord└── {word.text}\")\n",
    "        print('\\n────────────────────────────\\n')"
   ]
  },
  {
   "cell_type": "code",
   "execution_count": null,
   "metadata": {
    "scrolled": true
   },
   "outputs": [],
   "source": [
    "for page in doc_1099_div.pages:\n",
    "    forms=[]\n",
    "    for field in page.form.fields:\n",
    "        obj={}\n",
    "        obj[f'{field.key}']=f'{field.value}'\n",
    "        forms.append(obj)\n",
    "\n",
    "display(JSON(forms, root='Form Key-values', expanded=True))"
   ]
  },
  {
   "cell_type": "code",
   "execution_count": null,
   "metadata": {
    "scrolled": true
   },
   "outputs": [],
   "source": [
    "num_tables=1\n",
    "for page in doc_1099_div.pages:\n",
    "     # Print tables\n",
    "    for table in page.tables:\n",
    "        print(f\"Table {num_tables}\")\n",
    "        print('────────────────────────────────────────────────────────────')\n",
    "        num_tables=num_tables+1\n",
    "        for r, row in enumerate(table.rows):\n",
    "            for c, cell in enumerate(row.cells):\n",
    "                print(f\"Cell[{r}][{c}] = {cell.text}\")\n",
    "        print('\\n')"
   ]
  },
  {
   "cell_type": "code",
   "execution_count": null,
   "metadata": {
    "scrolled": true
   },
   "outputs": [],
   "source": [
    "print(get_string(textract_json=response_1099_div, table_format=Pretty_Print_Table_Format.grid, output_type=[Textract_Pretty_Print.TABLES]))"
   ]
  },
  {
   "cell_type": "code",
   "execution_count": null,
   "metadata": {},
   "outputs": [],
   "source": []
  },
  {
   "cell_type": "markdown",
   "metadata": {},
   "source": [
    "---\n",
    "## 10. Extracting 1099-MISC Form <a id=\"step10\"></a>"
   ]
  },
  {
   "cell_type": "code",
   "execution_count": null,
   "metadata": {},
   "outputs": [],
   "source": [
    "documentName = \"docs/1099-MISC-2021.pdf\"\n",
    "display(IFrame(documentName, 500, 600));"
   ]
  },
  {
   "cell_type": "code",
   "execution_count": null,
   "metadata": {},
   "outputs": [],
   "source": [
    "response_1099_misc = call_textract(input_document=f's3://{data_bucket}/idp-mortgage/textract/1099-MISC-2021.pdf', \n",
    "                                 features=[Textract_Features.TABLES, Textract_Features.FORMS])\n",
    "doc_1099_misc = Document(response_1099_misc)"
   ]
  },
  {
   "cell_type": "markdown",
   "metadata": {},
   "source": [
    "### Printing the content of the doc in Line and Word Format\n",
    "\n",
    "In this section, we will extract the lines and words that appear in the document."
   ]
  },
  {
   "cell_type": "code",
   "execution_count": null,
   "metadata": {
    "scrolled": true
   },
   "outputs": [],
   "source": [
    "# Iterate over elements in the document\n",
    "for page in doc_1099_misc.pages:\n",
    "    # Print lines and words\n",
    "    for line in page.lines:\n",
    "        print(f\"Line├── {line.text}\")\n",
    "        for word in line.words:\n",
    "            print(f\"\\tWord└── {word.text}\")\n",
    "        print('\\n────────────────────────────\\n')"
   ]
  },
  {
   "cell_type": "markdown",
   "metadata": {},
   "source": [
    "### Get form info (key-value) pairs from the response\n",
    "\n",
    "In the previous section, note that the output is plain text and doesn't necessarily have information on whether they appear in a form or a table. In this section we will get the form data in the document in key-value pair format."
   ]
  },
  {
   "cell_type": "code",
   "execution_count": null,
   "metadata": {
    "scrolled": true
   },
   "outputs": [],
   "source": [
    "for page in doc_1099_misc.pages:\n",
    "    forms=[]\n",
    "    for field in page.form.fields:\n",
    "        obj={}\n",
    "        obj[f'{field.key}']=f'{field.value}'\n",
    "        forms.append(obj)\n",
    "\n",
    "display(JSON(forms, root='Form Key-values', expanded=True))"
   ]
  },
  {
   "cell_type": "code",
   "execution_count": null,
   "metadata": {},
   "outputs": [],
   "source": [
    "num_tables=1\n",
    "for page in doc_1099_misc.pages:\n",
    "     # Print tables\n",
    "    for table in page.tables:\n",
    "        print(f\"Table {num_tables}\")\n",
    "        print('────────────────────────────')\n",
    "        num_tables=num_tables+1\n",
    "        for r, row in enumerate(table.rows):\n",
    "            for c, cell in enumerate(row.cells):\n",
    "                print(f\"Cell[{r}][{c}] = {cell.text}\")\n",
    "        print('\\n')"
   ]
  },
  {
   "cell_type": "code",
   "execution_count": null,
   "metadata": {},
   "outputs": [],
   "source": [
    "print(get_string(textract_json=response_1099_misc, table_format=Pretty_Print_Table_Format.grid, output_type=[Textract_Pretty_Print.TABLES]))"
   ]
  },
  {
   "cell_type": "markdown",
   "metadata": {},
   "source": [
    "---\n",
    "## 11. Extracting 1099-R Form <a id=\"step11\"></a>"
   ]
  },
  {
   "cell_type": "code",
   "execution_count": null,
   "metadata": {},
   "outputs": [],
   "source": [
    "documentName = \"docs/1099-R.jpg\"\n",
    "display(Image(filename=documentName, width=500))"
   ]
  },
  {
   "cell_type": "code",
   "execution_count": null,
   "metadata": {},
   "outputs": [],
   "source": [
    "response_1099_r = call_textract(input_document=f's3://{data_bucket}/idp-mortgage/textract/1099-R.jpg', \n",
    "                                 features=[Textract_Features.TABLES, Textract_Features.FORMS])\n",
    "doc_1099_r = Document(response_1099_r)"
   ]
  },
  {
   "cell_type": "code",
   "execution_count": null,
   "metadata": {
    "scrolled": true
   },
   "outputs": [],
   "source": [
    "# Iterate over elements in the document\n",
    "for page in doc_1099_r.pages:\n",
    "    # Print lines and words\n",
    "    for line in page.lines:\n",
    "        print(f\"Line├── {line.text}\")\n",
    "        for word in line.words:\n",
    "            print(f\"\\tWord└── {word.text}\")\n",
    "        print('\\n────────────────────────────\\n')"
   ]
  },
  {
   "cell_type": "code",
   "execution_count": null,
   "metadata": {
    "scrolled": true
   },
   "outputs": [],
   "source": [
    "for page in doc_1099_r.pages:\n",
    "    forms=[]\n",
    "    for field in page.form.fields:\n",
    "        obj={}\n",
    "        obj[f'{field.key}']=f'{field.value}'\n",
    "        forms.append(obj)\n",
    "\n",
    "display(JSON(forms, root='Form Key-values', expanded=True))"
   ]
  },
  {
   "cell_type": "code",
   "execution_count": null,
   "metadata": {
    "scrolled": true
   },
   "outputs": [],
   "source": [
    "num_tables=1\n",
    "for page in doc_1099_r.pages:\n",
    "     # Print tables\n",
    "    for table in page.tables:\n",
    "        print(f\"Table {num_tables}\")\n",
    "        print('────────────────────────────')\n",
    "        num_tables=num_tables+1\n",
    "        for r, row in enumerate(table.rows):\n",
    "            for c, cell in enumerate(row.cells):\n",
    "                print(f\"Cell[{r}][{c}] = {cell.text}\")\n",
    "        print('\\n')"
   ]
  },
  {
   "cell_type": "markdown",
   "metadata": {},
   "source": [
    "There are no table's detected in this document"
   ]
  },
  {
   "cell_type": "markdown",
   "metadata": {},
   "source": [
    "---\n",
    "## 12. Employment Verification Form <a id=\"step12\"></a>"
   ]
  },
  {
   "cell_type": "code",
   "execution_count": null,
   "metadata": {},
   "outputs": [],
   "source": [
    "documentName = \"docs/Employment_Verification.png\"\n",
    "display(Image(filename=documentName, width=500))"
   ]
  },
  {
   "cell_type": "code",
   "execution_count": null,
   "metadata": {},
   "outputs": [],
   "source": [
    "response_emp_ver = call_textract(input_document=f's3://{data_bucket}/idp-mortgage/textract/Employment_Verification.png', \n",
    "                            features=[Textract_Features.TABLES, Textract_Features.FORMS])\n",
    "doc_emp_ver = Document(response_emp_ver)"
   ]
  },
  {
   "cell_type": "markdown",
   "metadata": {},
   "source": [
    "### Printing the content of the doc in Line and Word Format\n",
    "\n",
    "In this section, we will extract the lines and words that appear in the document."
   ]
  },
  {
   "cell_type": "code",
   "execution_count": null,
   "metadata": {
    "scrolled": true
   },
   "outputs": [],
   "source": [
    "# Iterate over elements in the document\n",
    "for page in doc_emp_ver.pages:    \n",
    "    # Print lines and words\n",
    "    for line in page.lines:\n",
    "        print(f\"Line├── {line.text}\")\n",
    "        for word in line.words:\n",
    "            print(f\"\\tWord└── {word.text}\")\n",
    "        print('\\n────────────────────────────\\n')"
   ]
  },
  {
   "cell_type": "markdown",
   "metadata": {},
   "source": [
    "### Get form info (key-value) pairs from the response\n",
    "\n",
    "In the previous section, note that the output is plain text and doesn't necessarily have information on whether they appear in a form or a table. In this section we will get the form data in the document in key-value pair format."
   ]
  },
  {
   "cell_type": "code",
   "execution_count": null,
   "metadata": {
    "scrolled": true
   },
   "outputs": [],
   "source": [
    "for page in doc_emp_ver.pages:\n",
    "    forms=[]\n",
    "    for field in page.form.fields:\n",
    "        obj={}\n",
    "        obj[f'{field.key}']=f'{field.value}'\n",
    "        forms.append(obj)\n",
    "\n",
    "display(JSON(forms, root='Form Key-values', expanded=True))"
   ]
  },
  {
   "cell_type": "markdown",
   "metadata": {},
   "source": [
    "### Get Table info from the response"
   ]
  },
  {
   "cell_type": "code",
   "execution_count": null,
   "metadata": {
    "scrolled": true
   },
   "outputs": [],
   "source": [
    "num_tables=1\n",
    "for page in doc_emp_ver.pages:\n",
    "     # Print tables\n",
    "    for table in page.tables:\n",
    "        print(f\"Table {num_tables}\")\n",
    "        print('────────────────────────────')\n",
    "        num_tables=num_tables+1\n",
    "        for r, row in enumerate(table.rows):\n",
    "            for c, cell in enumerate(row.cells):\n",
    "                print(f\"Cell[{r}][{c}] = {cell.text}\")\n",
    "        print('\\n')"
   ]
  },
  {
   "cell_type": "code",
   "execution_count": null,
   "metadata": {},
   "outputs": [],
   "source": [
    "print(get_string(textract_json=response_emp_ver, table_format=Pretty_Print_Table_Format.grid, output_type=[Textract_Pretty_Print.TABLES]))"
   ]
  },
  {
   "cell_type": "markdown",
   "metadata": {},
   "source": [
    "---\n",
    "\n",
    "## 13. Mortgage Statement <a id=\"step13\"></a>"
   ]
  },
  {
   "cell_type": "code",
   "execution_count": null,
   "metadata": {},
   "outputs": [],
   "source": [
    "# Document\n",
    "documentName = \"docs/Mortgage_Statement.pdf\"\n",
    "display(IFrame(documentName, 500, 600));"
   ]
  },
  {
   "cell_type": "code",
   "execution_count": null,
   "metadata": {},
   "outputs": [],
   "source": [
    "response_mtgg_stmt = call_textract(input_document=f's3://{data_bucket}/idp-mortgage/textract/Mortgage_Statement.pdf', \n",
    "                            features=[Textract_Features.TABLES, Textract_Features.FORMS])\n",
    "doc_mtgg_stmt = Document(response_mtgg_stmt)"
   ]
  },
  {
   "cell_type": "markdown",
   "metadata": {},
   "source": [
    "### Printing the content of the doc in Line and Word Format\n",
    "\n",
    "In this section, we will extract the lines and words that appear in the document."
   ]
  },
  {
   "cell_type": "code",
   "execution_count": null,
   "metadata": {
    "scrolled": true
   },
   "outputs": [],
   "source": [
    "# Iterate over elements in the document\n",
    "for page in doc_mtgg_stmt.pages:    \n",
    "    # Print lines and words\n",
    "    for line in page.lines:\n",
    "        print(f\"Line├── {line.text}\")\n",
    "        for word in line.words:\n",
    "            print(f\"\\tWord└── {word.text}\")\n",
    "        print('\\n────────────────────────────\\n')"
   ]
  },
  {
   "cell_type": "markdown",
   "metadata": {},
   "source": [
    "### Get form info (key-value) pairs from the response\n",
    "\n",
    "In the previous section, note that the output is plain text and doesn't necessarily have information on whether they appear in a form or a table. In this section we will get the form data in the document in key-value pair format."
   ]
  },
  {
   "cell_type": "code",
   "execution_count": null,
   "metadata": {
    "scrolled": true
   },
   "outputs": [],
   "source": [
    "for page in doc_mtgg_stmt.pages:\n",
    "    forms=[]\n",
    "    for field in page.form.fields:\n",
    "        obj={}\n",
    "        obj[f'{field.key}']=f'{field.value}'\n",
    "        forms.append(obj)\n",
    "\n",
    "display(JSON(forms, root='Form Key-values', expanded=True))"
   ]
  },
  {
   "cell_type": "markdown",
   "metadata": {},
   "source": [
    "### Get Table info from the response"
   ]
  },
  {
   "cell_type": "code",
   "execution_count": null,
   "metadata": {
    "scrolled": true
   },
   "outputs": [],
   "source": [
    "num_tables=1\n",
    "for page in doc_mtgg_stmt.pages:\n",
    "     # Print tables\n",
    "    for table in page.tables:\n",
    "        print(f\"Table {num_tables}\")\n",
    "        print('────────────────────────────')\n",
    "        num_tables=num_tables+1\n",
    "        for r, row in enumerate(table.rows):\n",
    "            for c, cell in enumerate(row.cells):\n",
    "                print(f\"Cell[{r}][{c}] = {cell.text}\")\n",
    "        print('\\n')"
   ]
  },
  {
   "cell_type": "code",
   "execution_count": null,
   "metadata": {},
   "outputs": [],
   "source": [
    "print(get_string(textract_json=response_mtgg_stmt, table_format=Pretty_Print_Table_Format.grid, output_type=[Textract_Pretty_Print.TABLES]))"
   ]
  },
  {
   "cell_type": "markdown",
   "metadata": {},
   "source": [
    "---\n",
    "# Conclusion\n",
    "\n",
    "In this notebook, we saw how to extract FORMS, TABLES, and TEXT lines from various documents that may be present in a mortgage packet. We also used Amazon Textract AnalyzeID to detect information from passport document. We used queries to extract specific information out of a document which is dense text and got accurate responses back from the API. In the next notebook, we will perform enrichment on one of the documents."
   ]
  },
  {
   "cell_type": "code",
   "execution_count": null,
   "metadata": {},
   "outputs": [],
   "source": []
  }
 ],
 "metadata": {
  "instance_type": "ml.t3.medium",
  "kernelspec": {
   "display_name": "Python 3 (Data Science)",
   "language": "python",
   "name": "python3__SAGEMAKER_INTERNAL__arn:aws:sagemaker:us-east-2:429704687514:image/datascience-1.0"
  },
  "language_info": {
   "codemirror_mode": {
    "name": "ipython",
    "version": 3
   },
   "file_extension": ".py",
   "mimetype": "text/x-python",
   "name": "python",
   "nbconvert_exporter": "python",
   "pygments_lexer": "ipython3",
   "version": "3.7.10"
  }
 },
 "nbformat": 4,
 "nbformat_minor": 4
}
